{
 "cells": [
  {
   "cell_type": "markdown",
   "metadata": {
    "pycharm": {
     "name": "#%% md\n"
    }
   },
   "source": [
    "# Réseau de neurones"
   ]
  },
  {
   "cell_type": "markdown",
   "metadata": {
    "pycharm": {
     "name": "#%% md\n"
    }
   },
   "source": [
    "## Import packages"
   ]
  },
  {
   "cell_type": "code",
   "execution_count": 1,
   "metadata": {
    "pycharm": {
     "name": "#%%\n"
    }
   },
   "outputs": [],
   "source": [
    "import pandas as pd\n",
    "import numpy as np\n",
    "from matplotlib import pyplot as plt\n",
    "from sklearn.model_selection import train_test_split\n",
    "from tensorflow import keras\n",
    "from keras.layers import Dense\n",
    "import cv2 as cv\n",
    "from sklearn import preprocessing"
   ]
  },
  {
   "cell_type": "markdown",
   "metadata": {
    "pycharm": {
     "name": "#%% md\n"
    }
   },
   "source": [
    "___"
   ]
  },
  {
   "cell_type": "markdown",
   "metadata": {
    "pycharm": {
     "name": "#%% md\n"
    }
   },
   "source": [
    "## Implémentation en code python"
   ]
  },
  {
   "cell_type": "markdown",
   "metadata": {},
   "source": [
    "Création de la fonction python permettant de produire différents réseayx de neurones de type perceptron multicouches. \n",
    "\n",
    "Pour la création du model, elle se fait couche par couche. Nous avons un modèle de type perceptron multi-couches avec : \n",
    "- une couche d'entrée\n",
    "- deux couches cachées de 128 neurones avec des activations (ReLU par défaut mais peut être modifié)\n",
    "- une couche de sortie de 10 neurones avec activation Softmax car en sortie nous avons un label, plusieurs classes \n",
    "\n",
    "Puis nous avons configuré la méthode d'entrainement de ce modèle en prenant en compte plusieurs critères : \n",
    "- optimizer : algorithme d'optimisation utilisé (par défaut adam mais peut être modifié) \n",
    "- loss : la fonction objectif que l'on souhaite minimiser (ici categorical_crossentropy)\n",
    "- metrics : la métrique considée pour évaluer les performances (ici accuracy)\n",
    "Puis, on peut entraîner le modèle en précisiant la façon dont les données seront résentées lors de l'entrainement : \n",
    "- epochs : un passage sur l'ensemble des données de la base d'entrainement (par défaut 20 mais peut être modifié) \n",
    "- batch_size : définit le nombre d'exemples qui seront propagés à chaque itération pour calculer la mise à jour des poids (par défaut 128 mais peut être modifié) \n",
    "\n",
    "Ensuite, on ajuste le modèle : on l'entraîne sur nos données dans train. Où : \n",
    "- epochs : nombre de fois qu'il faut itérer sur les tableaux de données \n",
    "- batch_size : nombre d'échantillon par mise à jour du gradient \n",
    "- callbacks : objet qui peut effectuer des actions à différentes étapes de la formation \n",
    "    - soit vide \n",
    "    - soit qui a été crée par nous même avec callbacks.EarlyStopping : \n",
    "        - monitor : quantité à surveiller (ici les pertes \"loss\") \n",
    "        - mode : mode (ici \"min\") \n",
    "        - patience : nombre d'époch sans amélioration après lesquelles l'entrainement sera arrêté (ici 4) \n",
    "        - restore_best_weights : si il faut rester les poids du modèle à partir de l'époch avec la meilleure valeur de la quantité surveillé (ici vrai) \n",
    "        - verbose : mode de verbosité (ici 2 : une ligne de journal par époch) \n",
    "        - validation_data : (ici x_validate et y_validate)\n",
    "\n",
    "Pour finir, nous avons cherché à valider notre modèle. En effet nous regardons si le modèle est le mieux adapté au problème donné et aux données correspondantes. Pour cela, nous avons besoin des données de test et leurs étiquettes. On rentre également le nombre d'exemples à propagés pour chaque itération. "
   ]
  },
  {
   "cell_type": "code",
   "execution_count": 2,
   "metadata": {
    "pycharm": {
     "name": "#%%\n"
    }
   },
   "outputs": [],
   "source": [
    "def mlp_model(train_set, test_set, validate_set, optimizer_name='adam', nb_layer=3, batch_size=128, learning_rate=0.001, epochs=20, activation_function=\"relu\", callback_application = True):\n",
    "    \"\"\"\n",
    "    abc xyz\n",
    "    :param optimizer_name:\n",
    "    :param batch_size:\n",
    "    :param train_set:\n",
    "    :param test_set:\n",
    "    :param validate_set: qsdqsd\n",
    "    :param learning_rate: something\n",
    "    :param activation_function: ......\n",
    "    :param epochs: number of ....\n",
    "    :param nb_layer: number of layers\n",
    "    \"\"\"\n",
    "    model = keras.models.Sequential([\n",
    "        # deux couches cachées de 128 neurones avec activation ReLU par défaut\n",
    "        Dense(128, activation=activation_function),\n",
    "        Dense(128, activation=activation_function),\n",
    "        # une couche de sortie de 10 neurones avec activation Softmax\n",
    "        Dense(10, activation='softmax')\n",
    "    ])\n",
    "\n",
    "    x_train = train_set[0]\n",
    "    y_train = train_set[1]\n",
    "    x_test = test_set[0]\n",
    "    y_test = test_set[1]\n",
    "    x_validate = validate_set[0]\n",
    "    y_validate = validate_set[1]\n",
    "\n",
    "    optimizer = None\n",
    "    if optimizer_name == \"sgd\":\n",
    "        optimizer = keras.optimizers.SGD(learning_rate=learning_rate, decay=1e-6, momentum=0.9, nesterov=True)\n",
    "    elif optimizer_name == \"adam\":\n",
    "        optimizer = keras.optimizers.Adam(learning_rate=learning_rate)\n",
    "\n",
    "    model.compile(loss='categorical_crossentropy', optimizer=optimizer, metrics=['accuracy'])\n",
    "    \n",
    "    if callback_application : \n",
    "        callback = keras.callbacks.EarlyStopping(monitor=\"val_loss\", mode=\"min\", patience=4, restore_best_weights=True)\n",
    "    else : \n",
    "        callback = []\n",
    "    model_fit = model.fit(x_train, y_train, epochs=epochs, batch_size=batch_size, callbacks=[callback], verbose=2, validation_data=(x_validate, y_validate))\n",
    "    \n",
    "    model_score = model.evaluate(x_test, y_test, batch_size=batch_size)\n",
    "\n",
    "    return model, model_fit, model_score"
   ]
  },
  {
   "cell_type": "markdown",
   "metadata": {
    "pycharm": {
     "name": "#%% md\n"
    }
   },
   "source": [
    "---"
   ]
  },
  {
   "cell_type": "markdown",
   "metadata": {
    "pycharm": {
     "name": "#%% md\n"
    }
   },
   "source": [
    "## Préparation des données\n",
    "\n",
    "Nous effectuons des pré-traitement sur les données d'entrée à travers différentes fonctions :  "
   ]
  },
  {
   "cell_type": "markdown",
   "metadata": {},
   "source": [
    "### Normaliser les données"
   ]
  },
  {
   "cell_type": "code",
   "execution_count": 17,
   "metadata": {
    "pycharm": {
     "name": "#%%\n"
    }
   },
   "outputs": [],
   "source": [
    "def normalize(x):\n",
    "    return x / 255"
   ]
  },
  {
   "cell_type": "markdown",
   "metadata": {},
   "source": [
    "### Standardiser les données \n",
    "\n",
    "Standardiser les données en supprimant la moyenne et en mettant à l'échelle la variance unitaire"
   ]
  },
  {
   "cell_type": "code",
   "execution_count": 18,
   "metadata": {},
   "outputs": [],
   "source": [
    "def standardize(x):\n",
    "    scaler = preprocessing.StandardScaler().fit(x)\n",
    "    x_scaled = scaler.transform(x)\n",
    "    return x_scaled"
   ]
  },
  {
   "cell_type": "markdown",
   "metadata": {},
   "source": [
    "### Seuillage manuelle\n",
    "\n",
    "Appliquer un seuillage manuelle sur une image et contient plusieurs paramètres\n",
    "- image à traiter\n",
    "- valeur du seuil (0.5 par défaut) \n",
    "- la couleur que prendra les objets une fois seuillé (ici 1)\n",
    "- type de seuilr (ici TRESH_BINARY)"
   ]
  },
  {
   "cell_type": "code",
   "execution_count": 19,
   "metadata": {},
   "outputs": [],
   "source": [
    "def img_preprocessing(x, threshold=0.5):\n",
    "    return cv.threshold(x, threshold, 1, cv.THRESH_BINARY)[1]"
   ]
  },
  {
   "cell_type": "markdown",
   "metadata": {},
   "source": [
    "### Représentation des 25 premières images\n",
    "\n",
    "- prépration du jeu de données pour qu'il soit conforme : donne une nouvelle \"shape\"\n",
    "- plt.subplot : création d'une figure avec 5x5 grilles de sous-parcelles \n",
    "- plt.xticks : définir les emplacements des graduations de l'axe x\n",
    "- plt.yticks : définir les emplacements des graduations de l'axe y\n",
    "- plt.grid : si on veut afficher les grilles (ici non) \n",
    "- plt.imshow : afficher les données sous forme d'image (2D)"
   ]
  },
  {
   "cell_type": "code",
   "execution_count": 20,
   "metadata": {},
   "outputs": [],
   "source": [
    "def display_img(x):\n",
    "    plt.figure(figsize=(10, 10))\n",
    "    x = x.reshape(len(x), 28, 28, 1)\n",
    "    for i in range(25):\n",
    "        plt.subplot(5, 5, i + 1)\n",
    "        plt.xticks([])\n",
    "        plt.yticks([])\n",
    "        plt.grid(False)\n",
    "        plt.imshow(x[i], cmap=plt.cm.binary)"
   ]
  },
  {
   "cell_type": "markdown",
   "metadata": {},
   "source": [
    "### Préparation des nouveaux jeux de données\n",
    "\n",
    "Appel du jeu de donénes mnist_all et création des jeux test, train et validate \n",
    "- Récupère dans Y les données de la première colonne du jeu de données car elles représentent les numéros qu'il faut avoir et dans X les données \n",
    "- train_test_split : divise nos jeux de donénes en sous-ensembles d'entraînement, de test et de validation. \n",
    "    - test_size permet de donner la proportion que nous voulons mettre dans d'abord test puis dans validate : 10% dans test, 10% dans validate et 80% dans train \n",
    "    - On l'applique 2 fois pour séparer en 3 fois le jeux de données initials \n",
    "- On normalise nos x (train, test, validate) \n",
    "- Si on le souhaite (en l'indiquant quand on appel la fonction) on peut appeler la fonction qui permet d'appliquer un seuil sur une image (ici sur nos x_train, x_test, x_validate)\n",
    "- Convertir nos y (train, test, validate) en matrice de classe binaire \n",
    "- Afficher les états de nos nouveaux jeux de données "
   ]
  },
  {
   "cell_type": "code",
   "execution_count": 21,
   "metadata": {},
   "outputs": [],
   "source": [
    "def data_preparation(process_img=False):\n",
    "    data = pd.read_csv(\"mnist_all.csv\")\n",
    "    x = np.array(data.iloc[:, 1:])\n",
    "    y = data.iloc[:, 0]\n",
    "\n",
    "    x_train_validate, x_test, y_train_validate, y_test = train_test_split(x, y, test_size=0.10, random_state=0, stratify=y)\n",
    "    x_train, x_validate, y_train, y_validate = train_test_split(x_train_validate, y_train_validate, test_size=0.10, random_state=0, stratify=y_train_validate)\n",
    "\n",
    "    x_train = normalize(x_train)\n",
    "    x_test = normalize(x_test)\n",
    "    x_validate = normalize(x_validate)\n",
    "\n",
    "    if process_img:\n",
    "        x_train = img_preprocessing(x_train)\n",
    "        x_test = img_preprocessing(x_test)\n",
    "        x_validate = img_preprocessing(x_validate)\n",
    "\n",
    "    y_train = keras.utils.to_categorical(y_train, 10)\n",
    "    y_test = keras.utils.to_categorical(y_test, 10)\n",
    "    y_validate = keras.utils.to_categorical(y_validate, 10)\n",
    "\n",
    "    print('shape X train : ', x_train.shape)\n",
    "    print('shape X test : ', x_test.shape)\n",
    "    print('shape X validate : ', x_validate.shape)\n",
    "    print('shape Y train : ', y_train.shape)\n",
    "    print('shape Y test : ', y_test.shape)\n",
    "    print('shape Y validate : ', y_validate.shape)\n",
    "\n",
    "    return [x_train, y_train], [x_test, y_test], [x_validate, y_validate]"
   ]
  },
  {
   "cell_type": "markdown",
   "metadata": {
    "pycharm": {
     "name": "#%% md\n"
    }
   },
   "source": [
    "---"
   ]
  },
  {
   "cell_type": "markdown",
   "metadata": {
    "pycharm": {
     "name": "#%% md\n"
    }
   },
   "source": [
    "## Elaboration de l'expérimentation\n",
    "\n",
    "Maintenant, nous allons permettre l'affichage graphique des différentes informations. "
   ]
  },
  {
   "cell_type": "markdown",
   "metadata": {},
   "source": [
    "### Représentation de taux d'erreur et taux de réussite\n",
    "\n",
    "Grâce à l'historique de model.fit (voir Implémentation en code Python) on peut récupérer plusieurs les métriques qui sont stocks dans un dictionnaire : \n",
    "- accuracy \n",
    "- val_accurary \n",
    "- loss \n",
    "- val_loss \n",
    "\n",
    "De ce fait, cela inclut la perte (loss) et la précision (accuracy) ainsi que la perte et la précision de l'ensemble de données de validation. Et nous pouvons créer des graphiques à partir de ces données. \n",
    "\n",
    "On créé un graphique de précision (accuracy) sur les ensembles de données d'entrainement et de validation sur les epochs d'entrainement. \n",
    "\n",
    "Puis un graphique de perte (loss) sur les ensembles de données d'entrainement et de validation en cours des epochs d'entrainement. "
   ]
  },
  {
   "cell_type": "code",
   "execution_count": 24,
   "metadata": {
    "pycharm": {
     "name": "#%%\n"
    }
   },
   "outputs": [],
   "source": [
    "def plot_model_result(model_fit):\n",
    "    plt.subplot(2, 1, 1)\n",
    "    plt.plot(model_fit.history['accuracy'])\n",
    "    plt.plot(model_fit.history['val_accuracy'])\n",
    "    plt.title('model accuracy')\n",
    "    plt.ylabel('accuracy')\n",
    "    plt.xlabel('epoch')\n",
    "    plt.legend(['train', 'test'], loc='lower right')\n",
    "\n",
    "    plt.subplot(2, 1, 2)\n",
    "    plt.plot(model_fit.history['loss'])\n",
    "    plt.plot(model_fit.history['val_loss'])\n",
    "    plt.title('model loss')\n",
    "    plt.ylabel('loss')\n",
    "    plt.xlabel('epoch')\n",
    "    plt.legend(['train', 'test'], loc='upper right')\n",
    "\n",
    "    plt.tight_layout()"
   ]
  },
  {
   "cell_type": "markdown",
   "metadata": {},
   "source": [
    "### Enregistrement des modèles \n",
    "\n",
    "Enregistrer tous les modèles que nous avons effectué dans model_path. "
   ]
  },
  {
   "cell_type": "code",
   "execution_count": 22,
   "metadata": {},
   "outputs": [],
   "source": [
    "def save_model(model, model_name):\n",
    "    save_dir = \"./results/\"\n",
    "    model_path = save_dir + model_name\n",
    "    model.save(model_path)\n",
    "    print('Saved trained model at %s ' % model_path)"
   ]
  },
  {
   "cell_type": "markdown",
   "metadata": {
    "pycharm": {
     "name": "#%% md\n"
    }
   },
   "source": [
    "### Expérimentation 1\n",
    "Description de l'expérimentation 1\n",
    "* optimizer: SGD\n",
    "* learning rate: 0.001\n",
    "* epochs: 20\n",
    "* process image method: None\n",
    "* activation function: *relu*\n",
    "* callback : *EarlyStopping*"
   ]
  },
  {
   "cell_type": "code",
   "execution_count": 5,
   "metadata": {
    "pycharm": {
     "name": "#%%\n"
    }
   },
   "outputs": [
    {
     "name": "stdout",
     "output_type": "stream",
     "text": [
      "shape X train :  (56699, 784)\n",
      "shape X test :  (7000, 784)\n",
      "shape X validate :  (6300, 784)\n",
      "shape Y train :  (56699, 10)\n",
      "shape Y test :  (7000, 10)\n",
      "shape Y validate :  (6300, 10)\n"
     ]
    }
   ],
   "source": [
    "train, test, validate = data_preparation(process_img=False)"
   ]
  },
  {
   "cell_type": "code",
   "execution_count": 6,
   "metadata": {
    "pycharm": {
     "name": "#%%\n"
    }
   },
   "outputs": [
    {
     "data": {
      "image/png": "[encoded data removed]",
      "text/plain": [
       "<Figure size 720x720 with 25 Axes>"
      ]
     },
     "metadata": {},
     "output_type": "display_data"
    }
   ],
   "source": [
    "display_img(train[0])"
   ]
  },
  {
   "cell_type": "code",
   "execution_count": 7,
   "metadata": {
    "pycharm": {
     "name": "#%%\n"
    }
   },
   "outputs": [
    {
     "name": "stdout",
     "output_type": "stream",
     "text": [
      "Epoch 1/20\n",
      "443/443 - 3s - loss: 1.3341 - accuracy: 0.6767 - val_loss: 0.6715 - val_accuracy: 0.8311 - 3s/epoch - 8ms/step\n",
      "Epoch 2/20\n",
      "443/443 - 1s - loss: 0.5262 - accuracy: 0.8642 - val_loss: 0.4457 - val_accuracy: 0.8822 - 924ms/epoch - 2ms/step\n",
      "Epoch 3/20\n",
      "443/443 - 1s - loss: 0.4012 - accuracy: 0.8900 - val_loss: 0.3768 - val_accuracy: 0.8933 - 917ms/epoch - 2ms/step\n",
      "Epoch 4/20\n",
      "443/443 - 1s - loss: 0.3517 - accuracy: 0.9011 - val_loss: 0.3403 - val_accuracy: 0.9017 - 933ms/epoch - 2ms/step\n",
      "Epoch 5/20\n",
      "443/443 - 1s - loss: 0.3222 - accuracy: 0.9082 - val_loss: 0.3173 - val_accuracy: 0.9116 - 929ms/epoch - 2ms/step\n",
      "Epoch 6/20\n",
      "443/443 - 1s - loss: 0.3012 - accuracy: 0.9144 - val_loss: 0.2993 - val_accuracy: 0.9149 - 935ms/epoch - 2ms/step\n",
      "Epoch 7/20\n",
      "443/443 - 1s - loss: 0.2849 - accuracy: 0.9186 - val_loss: 0.2861 - val_accuracy: 0.9184 - 923ms/epoch - 2ms/step\n",
      "Epoch 8/20\n",
      "443/443 - 1s - loss: 0.2709 - accuracy: 0.9227 - val_loss: 0.2733 - val_accuracy: 0.9224 - 934ms/epoch - 2ms/step\n",
      "Epoch 9/20\n",
      "443/443 - 1s - loss: 0.2587 - accuracy: 0.9266 - val_loss: 0.2615 - val_accuracy: 0.9263 - 928ms/epoch - 2ms/step\n",
      "Epoch 10/20\n",
      "443/443 - 1s - loss: 0.2480 - accuracy: 0.9293 - val_loss: 0.2533 - val_accuracy: 0.9278 - 937ms/epoch - 2ms/step\n",
      "Epoch 11/20\n",
      "443/443 - 1s - loss: 0.2378 - accuracy: 0.9321 - val_loss: 0.2422 - val_accuracy: 0.9305 - 950ms/epoch - 2ms/step\n",
      "Epoch 12/20\n",
      "443/443 - 1s - loss: 0.2290 - accuracy: 0.9348 - val_loss: 0.2358 - val_accuracy: 0.9337 - 951ms/epoch - 2ms/step\n",
      "Epoch 13/20\n",
      "443/443 - 1s - loss: 0.2209 - accuracy: 0.9371 - val_loss: 0.2270 - val_accuracy: 0.9352 - 940ms/epoch - 2ms/step\n",
      "Epoch 14/20\n",
      "443/443 - 1s - loss: 0.2132 - accuracy: 0.9392 - val_loss: 0.2200 - val_accuracy: 0.9368 - 951ms/epoch - 2ms/step\n",
      "Epoch 15/20\n",
      "443/443 - 1s - loss: 0.2063 - accuracy: 0.9411 - val_loss: 0.2139 - val_accuracy: 0.9389 - 948ms/epoch - 2ms/step\n",
      "Epoch 16/20\n",
      "443/443 - 1s - loss: 0.1994 - accuracy: 0.9426 - val_loss: 0.2068 - val_accuracy: 0.9389 - 948ms/epoch - 2ms/step\n",
      "Epoch 17/20\n",
      "443/443 - 1s - loss: 0.1933 - accuracy: 0.9438 - val_loss: 0.2017 - val_accuracy: 0.9413 - 948ms/epoch - 2ms/step\n",
      "Epoch 18/20\n",
      "443/443 - 1s - loss: 0.1873 - accuracy: 0.9457 - val_loss: 0.1963 - val_accuracy: 0.9424 - 948ms/epoch - 2ms/step\n",
      "Epoch 19/20\n",
      "443/443 - 1s - loss: 0.1816 - accuracy: 0.9478 - val_loss: 0.1905 - val_accuracy: 0.9429 - 946ms/epoch - 2ms/step\n",
      "Epoch 20/20\n",
      "443/443 - 1s - loss: 0.1765 - accuracy: 0.9492 - val_loss: 0.1860 - val_accuracy: 0.9449 - 962ms/epoch - 2ms/step\n",
      "55/55 [==============================] - 0s 2ms/step - loss: 0.1886 - accuracy: 0.9481\n",
      "[0.18857130408287048, 0.9481428861618042]\n",
      "INFO:tensorflow:Assets written to: ./results/model1\\assets\n",
      "Saved trained model at ./results/model1 \n"
     ]
    }
   ],
   "source": [
    "model, model_fit, score = mlp_model(train_set=train, test_set=test,\n",
    "                                    validate_set=validate, optimizer_name=\"sgd\", nb_layer=3, learning_rate=0.001, epochs=20,\n",
    "                                    activation_function=\"relu\")\n",
    "print(score)\n",
    "save_model(model, \"model1\")"
   ]
  },
  {
   "cell_type": "code",
   "execution_count": 8,
   "metadata": {
    "pycharm": {
     "name": "#%%\n"
    }
   },
   "outputs": [
    {
     "data": {
      "image/png": "[encoded data removed]",
      "text/plain": [
       "<Figure size 432x288 with 2 Axes>"
      ]
     },
     "metadata": {
      "needs_background": "light"
     },
     "output_type": "display_data"
    }
   ],
   "source": [
    "plot_model_result(model_fit)"
   ]
  },
  {
   "cell_type": "markdown",
   "metadata": {
    "pycharm": {
     "name": "#%% md\n"
    }
   },
   "source": [
    "---"
   ]
  },
  {
   "cell_type": "markdown",
   "metadata": {
    "pycharm": {
     "name": "#%% md\n"
    }
   },
   "source": [
    "### Expérimentation 2\n",
    "Description de l'expérimentation 2\n",
    "* optimizer: *SGD*\n",
    "* learning rate: *0.001*\n",
    "* epochs: *40*\n",
    "* process image method: [binary threshold](https://docs.opencv.org/3.4.0/d7/d4d/tutorial_py_thresholding.html)\n",
    "* activation function: *relu*\n",
    "* callback : *EarlyStopping*"
   ]
  },
  {
   "cell_type": "code",
   "execution_count": 9,
   "metadata": {
    "pycharm": {
     "name": "#%%\n"
    }
   },
   "outputs": [
    {
     "name": "stdout",
     "output_type": "stream",
     "text": [
      "shape X train :  (56699, 784)\n",
      "shape X test :  (7000, 784)\n",
      "shape X validate :  (6300, 784)\n",
      "shape Y train :  (56699, 10)\n",
      "shape Y test :  (7000, 10)\n",
      "shape Y validate :  (6300, 10)\n"
     ]
    }
   ],
   "source": [
    "train, test, validate = data_preparation(process_img=True)"
   ]
  },
  {
   "cell_type": "code",
   "execution_count": 10,
   "metadata": {
    "pycharm": {
     "name": "#%%\n"
    }
   },
   "outputs": [
    {
     "data": {
      "image/png": "[encoded data removed]",
      "text/plain": [
       "<Figure size 720x720 with 25 Axes>"
      ]
     },
     "metadata": {},
     "output_type": "display_data"
    }
   ],
   "source": [
    "display_img(train[0])"
   ]
  },
  {
   "cell_type": "code",
   "execution_count": 11,
   "metadata": {
    "pycharm": {
     "name": "#%%\n"
    }
   },
   "outputs": [
    {
     "name": "stdout",
     "output_type": "stream",
     "text": [
      "Epoch 1/40\n",
      "443/443 - 1s - loss: 1.3908 - accuracy: 0.6360 - val_loss: 0.6870 - val_accuracy: 0.8248 - 1s/epoch - 3ms/step\n",
      "Epoch 2/40\n",
      "443/443 - 1s - loss: 0.5372 - accuracy: 0.8581 - val_loss: 0.4517 - val_accuracy: 0.8760 - 1s/epoch - 2ms/step\n",
      "Epoch 3/40\n",
      "443/443 - 1s - loss: 0.4104 - accuracy: 0.8845 - val_loss: 0.3827 - val_accuracy: 0.8921 - 1s/epoch - 2ms/step\n",
      "Epoch 4/40\n",
      "443/443 - 1s - loss: 0.3611 - accuracy: 0.8974 - val_loss: 0.3483 - val_accuracy: 0.9006 - 1s/epoch - 3ms/step\n",
      "Epoch 5/40\n",
      "443/443 - 1s - loss: 0.3322 - accuracy: 0.9047 - val_loss: 0.3272 - val_accuracy: 0.9051 - 1s/epoch - 3ms/step\n",
      "Epoch 6/40\n",
      "443/443 - 1s - loss: 0.3114 - accuracy: 0.9101 - val_loss: 0.3107 - val_accuracy: 0.9092 - 1s/epoch - 3ms/step\n",
      "Epoch 7/40\n",
      "443/443 - 1s - loss: 0.2947 - accuracy: 0.9147 - val_loss: 0.2959 - val_accuracy: 0.9125 - 1s/epoch - 2ms/step\n",
      "Epoch 8/40\n",
      "443/443 - 1s - loss: 0.2806 - accuracy: 0.9195 - val_loss: 0.2844 - val_accuracy: 0.9159 - 1s/epoch - 2ms/step\n",
      "Epoch 9/40\n",
      "443/443 - 1s - loss: 0.2681 - accuracy: 0.9225 - val_loss: 0.2740 - val_accuracy: 0.9192 - 1s/epoch - 3ms/step\n",
      "Epoch 10/40\n",
      "443/443 - 1s - loss: 0.2569 - accuracy: 0.9260 - val_loss: 0.2653 - val_accuracy: 0.9210 - 1s/epoch - 3ms/step\n",
      "Epoch 11/40\n",
      "443/443 - 1s - loss: 0.2468 - accuracy: 0.9292 - val_loss: 0.2544 - val_accuracy: 0.9279 - 1s/epoch - 2ms/step\n",
      "Epoch 12/40\n",
      "443/443 - 1s - loss: 0.2372 - accuracy: 0.9316 - val_loss: 0.2460 - val_accuracy: 0.9270 - 1s/epoch - 2ms/step\n",
      "Epoch 13/40\n",
      "443/443 - 1s - loss: 0.2283 - accuracy: 0.9348 - val_loss: 0.2384 - val_accuracy: 0.9295 - 1s/epoch - 2ms/step\n",
      "Epoch 14/40\n",
      "443/443 - 1s - loss: 0.2201 - accuracy: 0.9369 - val_loss: 0.2310 - val_accuracy: 0.9322 - 1s/epoch - 2ms/step\n",
      "Epoch 15/40\n",
      "443/443 - 1s - loss: 0.2123 - accuracy: 0.9393 - val_loss: 0.2245 - val_accuracy: 0.9337 - 999ms/epoch - 2ms/step\n",
      "Epoch 16/40\n",
      "443/443 - 1s - loss: 0.2053 - accuracy: 0.9408 - val_loss: 0.2189 - val_accuracy: 0.9343 - 1s/epoch - 2ms/step\n",
      "Epoch 17/40\n",
      "443/443 - 1s - loss: 0.1984 - accuracy: 0.9436 - val_loss: 0.2120 - val_accuracy: 0.9363 - 1s/epoch - 2ms/step\n",
      "Epoch 18/40\n",
      "443/443 - 1s - loss: 0.1919 - accuracy: 0.9450 - val_loss: 0.2076 - val_accuracy: 0.9397 - 983ms/epoch - 2ms/step\n",
      "Epoch 19/40\n",
      "443/443 - 1s - loss: 0.1859 - accuracy: 0.9469 - val_loss: 0.2012 - val_accuracy: 0.9390 - 1s/epoch - 2ms/step\n",
      "Epoch 20/40\n",
      "443/443 - 1s - loss: 0.1799 - accuracy: 0.9487 - val_loss: 0.1970 - val_accuracy: 0.9406 - 1s/epoch - 2ms/step\n",
      "Epoch 21/40\n",
      "443/443 - 1s - loss: 0.1746 - accuracy: 0.9501 - val_loss: 0.1912 - val_accuracy: 0.9433 - 993ms/epoch - 2ms/step\n",
      "Epoch 22/40\n",
      "443/443 - 1s - loss: 0.1694 - accuracy: 0.9516 - val_loss: 0.1865 - val_accuracy: 0.9424 - 991ms/epoch - 2ms/step\n",
      "Epoch 23/40\n",
      "443/443 - 1s - loss: 0.1645 - accuracy: 0.9533 - val_loss: 0.1833 - val_accuracy: 0.9443 - 989ms/epoch - 2ms/step\n",
      "Epoch 24/40\n",
      "443/443 - 1s - loss: 0.1596 - accuracy: 0.9542 - val_loss: 0.1802 - val_accuracy: 0.9452 - 1s/epoch - 2ms/step\n",
      "Epoch 25/40\n",
      "443/443 - 1s - loss: 0.1556 - accuracy: 0.9552 - val_loss: 0.1760 - val_accuracy: 0.9473 - 1s/epoch - 3ms/step\n",
      "Epoch 26/40\n",
      "443/443 - 1s - loss: 0.1514 - accuracy: 0.9569 - val_loss: 0.1718 - val_accuracy: 0.9470 - 998ms/epoch - 2ms/step\n",
      "Epoch 27/40\n",
      "443/443 - 1s - loss: 0.1473 - accuracy: 0.9580 - val_loss: 0.1697 - val_accuracy: 0.9484 - 1s/epoch - 2ms/step\n",
      "Epoch 28/40\n",
      "443/443 - 1s - loss: 0.1437 - accuracy: 0.9589 - val_loss: 0.1663 - val_accuracy: 0.9492 - 958ms/epoch - 2ms/step\n",
      "Epoch 29/40\n",
      "443/443 - 1s - loss: 0.1399 - accuracy: 0.9601 - val_loss: 0.1634 - val_accuracy: 0.9505 - 999ms/epoch - 2ms/step\n",
      "Epoch 30/40\n",
      "443/443 - 1s - loss: 0.1367 - accuracy: 0.9614 - val_loss: 0.1593 - val_accuracy: 0.9524 - 999ms/epoch - 2ms/step\n",
      "Epoch 31/40\n",
      "443/443 - 1s - loss: 0.1333 - accuracy: 0.9621 - val_loss: 0.1568 - val_accuracy: 0.9525 - 999ms/epoch - 2ms/step\n",
      "Epoch 32/40\n",
      "443/443 - 1s - loss: 0.1301 - accuracy: 0.9629 - val_loss: 0.1562 - val_accuracy: 0.9538 - 1s/epoch - 2ms/step\n",
      "Epoch 33/40\n",
      "443/443 - 1s - loss: 0.1270 - accuracy: 0.9632 - val_loss: 0.1530 - val_accuracy: 0.9543 - 957ms/epoch - 2ms/step\n",
      "Epoch 34/40\n",
      "443/443 - 2s - loss: 0.1241 - accuracy: 0.9649 - val_loss: 0.1507 - val_accuracy: 0.9551 - 2s/epoch - 4ms/step\n",
      "Epoch 35/40\n",
      "443/443 - 2s - loss: 0.1215 - accuracy: 0.9654 - val_loss: 0.1473 - val_accuracy: 0.9560 - 2s/epoch - 5ms/step\n",
      "Epoch 36/40\n",
      "443/443 - 2s - loss: 0.1186 - accuracy: 0.9662 - val_loss: 0.1458 - val_accuracy: 0.9562 - 2s/epoch - 5ms/step\n",
      "Epoch 37/40\n",
      "443/443 - 2s - loss: 0.1160 - accuracy: 0.9671 - val_loss: 0.1439 - val_accuracy: 0.9575 - 2s/epoch - 5ms/step\n",
      "Epoch 38/40\n",
      "443/443 - 2s - loss: 0.1134 - accuracy: 0.9678 - val_loss: 0.1428 - val_accuracy: 0.9578 - 2s/epoch - 5ms/step\n",
      "Epoch 39/40\n",
      "443/443 - 2s - loss: 0.1110 - accuracy: 0.9684 - val_loss: 0.1405 - val_accuracy: 0.9581 - 2s/epoch - 5ms/step\n",
      "Epoch 40/40\n",
      "443/443 - 2s - loss: 0.1086 - accuracy: 0.9692 - val_loss: 0.1389 - val_accuracy: 0.9584 - 2s/epoch - 5ms/step\n",
      "55/55 [==============================] - 0s 3ms/step - loss: 0.1475 - accuracy: 0.9551\n",
      "[0.14746519923210144, 0.9551428556442261]\n",
      "INFO:tensorflow:Assets written to: ./results/model2\\assets\n",
      "Saved trained model at ./results/model2 \n"
     ]
    }
   ],
   "source": [
    "model, model_fit, score = mlp_model(train_set=train, test_set=test,\n",
    "                                    validate_set=validate, optimizer_name=\"sgd\", nb_layer=3, learning_rate=0.001, epochs=40, activation_function=\"relu\")\n",
    "print(score)\n",
    "save_model(model, \"model2\")"
   ]
  },
  {
   "cell_type": "code",
   "execution_count": 12,
   "metadata": {
    "pycharm": {
     "name": "#%%\n"
    }
   },
   "outputs": [
    {
     "data": {
      "image/png": "[encoded data removed]",
      "text/plain": [
       "<Figure size 432x288 with 2 Axes>"
      ]
     },
     "metadata": {
      "needs_background": "light"
     },
     "output_type": "display_data"
    }
   ],
   "source": [
    "plot_model_result(model_fit)"
   ]
  },
  {
   "cell_type": "markdown",
   "metadata": {
    "pycharm": {
     "name": "#%% md\n"
    }
   },
   "source": [
    "---"
   ]
  },
  {
   "cell_type": "markdown",
   "metadata": {
    "pycharm": {
     "name": "#%% md\n"
    }
   },
   "source": [
    "### Expérimentation 3\n",
    "Description de l'expérimentation 3\n",
    "* optimizer: *Adam*\n",
    "* learning rate: *0.01*\n",
    "* epochs: *40*\n",
    "* process image method: *None*\n",
    "* activation function: *sigmoid*\n",
    "* callback : vide"
   ]
  },
  {
   "cell_type": "code",
   "execution_count": 13,
   "metadata": {
    "pycharm": {
     "name": "#%%\n"
    }
   },
   "outputs": [
    {
     "name": "stdout",
     "output_type": "stream",
     "text": [
      "shape X train :  (56699, 784)\n",
      "shape X test :  (7000, 784)\n",
      "shape X validate :  (6300, 784)\n",
      "shape Y train :  (56699, 10)\n",
      "shape Y test :  (7000, 10)\n",
      "shape Y validate :  (6300, 10)\n"
     ]
    }
   ],
   "source": [
    "train, test, validate = data_preparation(process_img=False)"
   ]
  },
  {
   "cell_type": "code",
   "execution_count": 14,
   "metadata": {
    "pycharm": {
     "name": "#%%\n"
    }
   },
   "outputs": [
    {
     "data": {
      "image/png": "[encoded data removed]",
      "text/plain": [
       "<Figure size 720x720 with 25 Axes>"
      ]
     },
     "metadata": {},
     "output_type": "display_data"
    }
   ],
   "source": [
    "display_img(train[0])"
   ]
  },
  {
   "cell_type": "code",
   "execution_count": 26,
   "metadata": {
    "pycharm": {
     "name": "#%%\n"
    }
   },
   "outputs": [
    {
     "name": "stdout",
     "output_type": "stream",
     "text": [
      "Epoch 1/40\n",
      "443/443 - 3s - loss: 0.3056 - accuracy: 0.9076 - val_loss: 0.1453 - val_accuracy: 0.9562 - 3s/epoch - 8ms/step\n",
      "Epoch 2/40\n",
      "443/443 - 2s - loss: 0.1099 - accuracy: 0.9660 - val_loss: 0.1109 - val_accuracy: 0.9656 - 2s/epoch - 5ms/step\n",
      "Epoch 3/40\n",
      "443/443 - 3s - loss: 0.0768 - accuracy: 0.9757 - val_loss: 0.1002 - val_accuracy: 0.9681 - 3s/epoch - 6ms/step\n",
      "Epoch 4/40\n",
      "443/443 - 3s - loss: 0.0617 - accuracy: 0.9806 - val_loss: 0.0918 - val_accuracy: 0.9722 - 3s/epoch - 6ms/step\n",
      "Epoch 5/40\n",
      "443/443 - 3s - loss: 0.0526 - accuracy: 0.9833 - val_loss: 0.0884 - val_accuracy: 0.9727 - 3s/epoch - 6ms/step\n",
      "Epoch 6/40\n",
      "443/443 - 2s - loss: 0.0429 - accuracy: 0.9860 - val_loss: 0.0965 - val_accuracy: 0.9724 - 2s/epoch - 5ms/step\n",
      "Epoch 7/40\n",
      "443/443 - 2s - loss: 0.0409 - accuracy: 0.9864 - val_loss: 0.0938 - val_accuracy: 0.9733 - 2s/epoch - 5ms/step\n",
      "Epoch 8/40\n",
      "443/443 - 2s - loss: 0.0344 - accuracy: 0.9888 - val_loss: 0.0955 - val_accuracy: 0.9741 - 2s/epoch - 5ms/step\n",
      "Epoch 9/40\n",
      "443/443 - 2s - loss: 0.0301 - accuracy: 0.9897 - val_loss: 0.1059 - val_accuracy: 0.9705 - 2s/epoch - 5ms/step\n",
      "Epoch 10/40\n",
      "443/443 - 2s - loss: 0.0327 - accuracy: 0.9889 - val_loss: 0.1079 - val_accuracy: 0.9721 - 2s/epoch - 6ms/step\n",
      "Epoch 11/40\n",
      "443/443 - 2s - loss: 0.0283 - accuracy: 0.9909 - val_loss: 0.0871 - val_accuracy: 0.9768 - 2s/epoch - 6ms/step\n",
      "Epoch 12/40\n",
      "443/443 - 3s - loss: 0.0262 - accuracy: 0.9909 - val_loss: 0.1035 - val_accuracy: 0.9737 - 3s/epoch - 6ms/step\n",
      "Epoch 13/40\n",
      "443/443 - 2s - loss: 0.0264 - accuracy: 0.9913 - val_loss: 0.1046 - val_accuracy: 0.9729 - 2s/epoch - 6ms/step\n",
      "Epoch 14/40\n",
      "443/443 - 2s - loss: 0.0218 - accuracy: 0.9924 - val_loss: 0.1160 - val_accuracy: 0.9730 - 2s/epoch - 5ms/step\n",
      "Epoch 15/40\n",
      "443/443 - 2s - loss: 0.0214 - accuracy: 0.9926 - val_loss: 0.1083 - val_accuracy: 0.9738 - 2s/epoch - 5ms/step\n",
      "Epoch 16/40\n",
      "443/443 - 2s - loss: 0.0245 - accuracy: 0.9921 - val_loss: 0.1021 - val_accuracy: 0.9767 - 2s/epoch - 5ms/step\n",
      "Epoch 17/40\n",
      "443/443 - 2s - loss: 0.0206 - accuracy: 0.9931 - val_loss: 0.1230 - val_accuracy: 0.9746 - 2s/epoch - 5ms/step\n",
      "Epoch 18/40\n",
      "443/443 - 2s - loss: 0.0206 - accuracy: 0.9930 - val_loss: 0.1236 - val_accuracy: 0.9727 - 2s/epoch - 5ms/step\n",
      "Epoch 19/40\n",
      "443/443 - 3s - loss: 0.0216 - accuracy: 0.9925 - val_loss: 0.1178 - val_accuracy: 0.9729 - 3s/epoch - 6ms/step\n",
      "Epoch 20/40\n",
      "443/443 - 2s - loss: 0.0191 - accuracy: 0.9934 - val_loss: 0.1178 - val_accuracy: 0.9737 - 2s/epoch - 5ms/step\n",
      "Epoch 21/40\n",
      "443/443 - 2s - loss: 0.0183 - accuracy: 0.9942 - val_loss: 0.1291 - val_accuracy: 0.9708 - 2s/epoch - 5ms/step\n",
      "Epoch 22/40\n",
      "443/443 - 2s - loss: 0.0188 - accuracy: 0.9936 - val_loss: 0.1249 - val_accuracy: 0.9732 - 2s/epoch - 5ms/step\n",
      "Epoch 23/40\n",
      "443/443 - 2s - loss: 0.0165 - accuracy: 0.9944 - val_loss: 0.1112 - val_accuracy: 0.9784 - 2s/epoch - 6ms/step\n",
      "Epoch 24/40\n",
      "443/443 - 2s - loss: 0.0168 - accuracy: 0.9943 - val_loss: 0.1233 - val_accuracy: 0.9760 - 2s/epoch - 5ms/step\n",
      "Epoch 25/40\n",
      "443/443 - 2s - loss: 0.0212 - accuracy: 0.9929 - val_loss: 0.1338 - val_accuracy: 0.9749 - 2s/epoch - 5ms/step\n",
      "Epoch 26/40\n",
      "443/443 - 2s - loss: 0.0198 - accuracy: 0.9934 - val_loss: 0.1239 - val_accuracy: 0.9773 - 2s/epoch - 5ms/step\n",
      "Epoch 27/40\n",
      "443/443 - 2s - loss: 0.0164 - accuracy: 0.9944 - val_loss: 0.1207 - val_accuracy: 0.9748 - 2s/epoch - 5ms/step\n",
      "Epoch 28/40\n",
      "443/443 - 2s - loss: 0.0170 - accuracy: 0.9944 - val_loss: 0.1246 - val_accuracy: 0.9741 - 2s/epoch - 5ms/step\n",
      "Epoch 29/40\n",
      "443/443 - 2s - loss: 0.0168 - accuracy: 0.9939 - val_loss: 0.1350 - val_accuracy: 0.9721 - 2s/epoch - 6ms/step\n",
      "Epoch 30/40\n",
      "443/443 - 2s - loss: 0.0196 - accuracy: 0.9933 - val_loss: 0.1141 - val_accuracy: 0.9765 - 2s/epoch - 6ms/step\n",
      "Epoch 31/40\n",
      "443/443 - 2s - loss: 0.0196 - accuracy: 0.9937 - val_loss: 0.1210 - val_accuracy: 0.9730 - 2s/epoch - 6ms/step\n",
      "Epoch 32/40\n",
      "443/443 - 3s - loss: 0.0160 - accuracy: 0.9947 - val_loss: 0.1130 - val_accuracy: 0.9754 - 3s/epoch - 6ms/step\n",
      "Epoch 33/40\n",
      "443/443 - 3s - loss: 0.0160 - accuracy: 0.9947 - val_loss: 0.1342 - val_accuracy: 0.9775 - 3s/epoch - 6ms/step\n",
      "Epoch 34/40\n",
      "443/443 - 2s - loss: 0.0164 - accuracy: 0.9945 - val_loss: 0.1365 - val_accuracy: 0.9757 - 2s/epoch - 6ms/step\n",
      "Epoch 35/40\n",
      "443/443 - 2s - loss: 0.0170 - accuracy: 0.9944 - val_loss: 0.1347 - val_accuracy: 0.9767 - 2s/epoch - 6ms/step\n",
      "Epoch 36/40\n",
      "443/443 - 2s - loss: 0.0182 - accuracy: 0.9937 - val_loss: 0.1328 - val_accuracy: 0.9759 - 2s/epoch - 6ms/step\n",
      "Epoch 37/40\n",
      "443/443 - 2s - loss: 0.0090 - accuracy: 0.9969 - val_loss: 0.1229 - val_accuracy: 0.9768 - 2s/epoch - 5ms/step\n",
      "Epoch 38/40\n",
      "443/443 - 2s - loss: 0.0107 - accuracy: 0.9966 - val_loss: 0.1445 - val_accuracy: 0.9743 - 2s/epoch - 5ms/step\n",
      "Epoch 39/40\n",
      "443/443 - 3s - loss: 0.0150 - accuracy: 0.9953 - val_loss: 0.1522 - val_accuracy: 0.9708 - 3s/epoch - 6ms/step\n",
      "Epoch 40/40\n",
      "443/443 - 3s - loss: 0.0169 - accuracy: 0.9945 - val_loss: 0.1205 - val_accuracy: 0.9770 - 3s/epoch - 6ms/step\n",
      "55/55 [==============================] - 0s 4ms/step - loss: 0.1382 - accuracy: 0.9719\n",
      "[0.13823692500591278, 0.9718571305274963]\n",
      "INFO:tensorflow:Assets written to: ./results/model3\\assets\n",
      "Saved trained model at ./results/model3 \n"
     ]
    }
   ],
   "source": [
    "model, model_fit, score = mlp_model(train_set=train, test_set=test,\n",
    "                                    validate_set=validate, optimizer_name=\"adam\", nb_layer=3, learning_rate=0.01, epochs=40, \n",
    "                                    activation_function=\"sigmoid\", callback_application = False)\n",
    "print(score)\n",
    "save_model(model, \"model3\")"
   ]
  },
  {
   "cell_type": "code",
   "execution_count": 27,
   "metadata": {
    "pycharm": {
     "name": "#%%\n"
    }
   },
   "outputs": [
    {
     "data": {
      "image/png": "[encoded data removed]",
      "text/plain": [
       "<Figure size 432x288 with 2 Axes>"
      ]
     },
     "metadata": {
      "needs_background": "light"
     },
     "output_type": "display_data"
    }
   ],
   "source": [
    "plot_model_result(model_fit)"
   ]
  }
 ],
 "metadata": {
  "kernelspec": {
   "display_name": "Python 3 (ipykernel)",
   "language": "python",
   "name": "python3"
  },
  "language_info": {
   "codemirror_mode": {
    "name": "ipython",
    "version": 3
   },
   "file_extension": ".py",
   "mimetype": "text/x-python",
   "name": "python",
   "nbconvert_exporter": "python",
   "pygments_lexer": "ipython3",
   "version": "3.9.12"
  }
 },
 "nbformat": 4,
 "nbformat_minor": 1
}