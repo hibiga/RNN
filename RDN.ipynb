{
 "cells": [
  {
   "cell_type": "markdown",
   "metadata": {
    "pycharm": {
     "name": "#%% md\n"
    }
   },
   "source": [
    "# Réseau de neurones"
   ]
  },
  {
   "cell_type": "markdown",
   "metadata": {},
   "source": [
    "## Import packages"
   ]
  },
  {
   "cell_type": "code",
   "execution_count": 2,
   "metadata": {
    "pycharm": {
     "is_executing": true,
     "name": "#%%\n"
    }
   },
   "outputs": [],
   "source": [
    "import pandas as pd\n",
    "import numpy as np\n",
    "from matplotlib import pyplot as plt\n",
    "from sklearn.model_selection import train_test_split\n",
    "from tensorflow import keras\n",
    "from keras.layers import Dense, Activation, Conv2D, MaxPooling2D, Dropout, Flatten"
   ]
  },
  {
   "cell_type": "markdown",
   "metadata": {},
   "source": [
    "# Implémentation en code python"
   ]
  },
  {
   "cell_type": "markdown",
   "metadata": {
    "pycharm": {
     "name": "#%% md\n"
    }
   },
   "source": [
    "## Data preparation"
   ]
  },
  {
   "cell_type": "code",
   "execution_count": 3,
   "metadata": {
    "pycharm": {
     "is_executing": true,
     "name": "#%%\n"
    }
   },
   "outputs": [
    {
     "name": "stdout",
     "output_type": "stream",
     "text": [
      "shape X train :  (49384, 784)\n",
      "shape X test :  (10500, 784)\n",
      "shape X validate :  (10115, 784)\n",
      "shape Y train :  (49384, 10)\n",
      "shape Y test :  (10500, 10)\n",
      "shape Y validate :  (10115, 10)\n"
     ]
    }
   ],
   "source": [
    "data = pd.read_csv(\"mnist_all.csv\")\n",
    "\n",
    "def vectorize_label(labels):\n",
    "    new_label = []\n",
    "    for label in labels:\n",
    "        y = np.zeros((10, 1))\n",
    "        y[label] = 1\n",
    "        new_label.append(y)\n",
    "    return new_label\n",
    "\n",
    "def normalization (data):\n",
    "    return data/255\n",
    "\n",
    "def validation(digit):\n",
    "    dt = keras.utils.to_categorical(digit, 10)\n",
    "    return dt\n",
    "\n",
    "\n",
    "# Normalisation\n",
    "X = np.array(data.iloc[:, 1:])\n",
    "y = data.iloc[:, 0]\n",
    "\n",
    "x_train, x_test, y_train, y_test = train_test_split(X, y, test_size=0.15, random_state=0, stratify=y)\n",
    "x_train, x_validate, y_train, y_validate = train_test_split(x_train, y_train, test_size=0.17, random_state=0, stratify=y_train)\n",
    "\n",
    "x_train = x_train / 255.\n",
    "x_test = x_test / 255.\n",
    "\n",
    "#x_train = x_train.reshape(len(x_train), 28, 28, 1)\n",
    "#x_test = x_test.reshape(len(x_test), 28, 28, 1)\n",
    "#x_validate = x_validate.reshape(len(x_validate), 28, 28, 1)\n",
    "\n",
    "y_train = keras.utils.to_categorical(y_train, 10)\n",
    "y_test = keras.utils.to_categorical(y_test, 10)\n",
    "y_validate = keras.utils.to_categorical(y_validate, 10)\n",
    "\n",
    "print('shape X train : ', x_train.shape)\n",
    "print('shape X test : ', x_test.shape)\n",
    "print('shape X validate : ', x_validate.shape)\n",
    "print('shape Y train : ', y_train.shape)\n",
    "print('shape Y test : ', y_test.shape)\n",
    "print('shape Y validate : ', y_validate.shape)\n",
    "\n",
    "train = [x_train, y_train]\n",
    "tesy = [x_test, y_test]\n",
    "validate = [x_validate, y_validate]"
   ]
  },
  {
   "cell_type": "code",
   "execution_count": 3,
   "metadata": {},
   "outputs": [
    {
     "data": {
      "image/png": "[encoded data removed]",
      "text/plain": [
       "<Figure size 720x720 with 25 Axes>"
      ]
     },
     "metadata": {},
     "output_type": "display_data"
    }
   ],
   "source": [
    "# Display a few images and their labels\n",
    "plt.figure(figsize=(10,10))\n",
    "xtrain = x_train.reshape(len(x_train), 28, 28, 1)\n",
    "for i in range(25):\n",
    "    plt.subplot(5,5,i+1)\n",
    "    plt.xticks([])\n",
    "    plt.yticks([])\n",
    "    plt.grid(False)\n",
    "    plt.imshow(xtrain[i], cmap=plt.cm.binary)\n",
    "    #plt.text(0, 7, str(y_train[i]))\n",
    "#plt.show()"
   ]
  },
  {
   "cell_type": "code",
   "execution_count": 4,
   "metadata": {},
   "outputs": [],
   "source": [
    "# To generate noisy images :\n",
    "noise = np.random.normal(loc=0, scale=0.8, size=x_train.shape)\n",
    "x_train_noisy = x_train + noise\n",
    "noise = np.random.normal(loc=0, scale=0.8, size=x_test.shape)\n",
    "x_test_noisy = x_test + noise\n",
    "x_train_noisy = np.clip(x_train_noisy, 0., 1.)\n",
    "x_test_noisy = np.clip(x_test_noisy, 0., 1.)"
   ]
  },
  {
   "cell_type": "markdown",
   "metadata": {},
   "source": [
    "## Model construction"
   ]
  },
  {
   "cell_type": "code",
   "execution_count": 5,
   "metadata": {
    "scrolled": true
   },
   "outputs": [
    {
     "name": "stdout",
     "output_type": "stream",
     "text": [
      "Epoch 1/20\n",
      "386/386 [==============================] - 1s 2ms/step - loss: 0.5193 - accuracy: 0.8552\n",
      "Epoch 2/20\n",
      "386/386 [==============================] - 1s 2ms/step - loss: 0.2301 - accuracy: 0.9339\n",
      "Epoch 3/20\n",
      "386/386 [==============================] - 1s 3ms/step - loss: 0.1755 - accuracy: 0.9491\n",
      "Epoch 4/20\n",
      "386/386 [==============================] - 1s 2ms/step - loss: 0.1418 - accuracy: 0.9589\n",
      "Epoch 5/20\n",
      "386/386 [==============================] - 1s 2ms/step - loss: 0.1187 - accuracy: 0.9651\n",
      "Epoch 6/20\n",
      "386/386 [==============================] - 1s 2ms/step - loss: 0.1009 - accuracy: 0.9708\n",
      "Epoch 7/20\n",
      "386/386 [==============================] - 1s 2ms/step - loss: 0.0879 - accuracy: 0.9746\n",
      "Epoch 8/20\n",
      "386/386 [==============================] - 1s 2ms/step - loss: 0.0769 - accuracy: 0.9780\n",
      "Epoch 9/20\n",
      "386/386 [==============================] - 1s 2ms/step - loss: 0.0674 - accuracy: 0.9812\n",
      "Epoch 10/20\n",
      "386/386 [==============================] - 1s 2ms/step - loss: 0.0598 - accuracy: 0.9831\n",
      "Epoch 11/20\n",
      "386/386 [==============================] - 1s 2ms/step - loss: 0.0537 - accuracy: 0.9849\n",
      "Epoch 12/20\n",
      "386/386 [==============================] - 1s 2ms/step - loss: 0.0475 - accuracy: 0.9871\n",
      "Epoch 13/20\n",
      "386/386 [==============================] - 1s 2ms/step - loss: 0.0433 - accuracy: 0.9881\n",
      "Epoch 14/20\n",
      "386/386 [==============================] - 1s 2ms/step - loss: 0.0388 - accuracy: 0.9894\n",
      "Epoch 15/20\n",
      "386/386 [==============================] - 1s 2ms/step - loss: 0.0352 - accuracy: 0.9907\n",
      "Epoch 16/20\n",
      "386/386 [==============================] - 1s 2ms/step - loss: 0.0317 - accuracy: 0.9920\n",
      "Epoch 17/20\n",
      "386/386 [==============================] - 1s 2ms/step - loss: 0.0286 - accuracy: 0.9928\n",
      "Epoch 18/20\n",
      "386/386 [==============================] - 1s 2ms/step - loss: 0.0252 - accuracy: 0.9941\n",
      "Epoch 19/20\n",
      "386/386 [==============================] - 1s 2ms/step - loss: 0.0231 - accuracy: 0.9948\n",
      "Epoch 20/20\n",
      "386/386 [==============================] - 1s 2ms/step - loss: 0.0208 - accuracy: 0.9955\n",
      "83/83 [==============================] - 1s 2ms/step - loss: 0.0845 - accuracy: 0.9743\n"
     ]
    }
   ],
   "source": [
    "model = keras.models.Sequential([\n",
    "    #deux couches cachées de 128 neurones avec des activations ReLu\n",
    "    Dense(128, activation='relu'),\n",
    "    Dense(128, activation='relu'),\n",
    "    #une couche de sortie de 10 neurones avec activation Softmax\n",
    "    Dense(10, activation='softmax')\n",
    "                                ])\n",
    "model.compile(loss='categorical_crossentropy',optimizer='adam',metrics=['accuracy'])\n",
    "model.fit(x_train,y_train, epochs=20, batch_size=128)\n",
    "score = model.evaluate(x_test, y_test, batch_size=128)"
   ]
  },
  {
   "cell_type": "code",
   "execution_count": null,
   "metadata": {},
   "outputs": [],
   "source": [
    "model = keras.models.Sequential([\n",
    "    #deux couches cachées de 128 neurones avec des activations ReLu\n",
    "    Dense(350, activation='sigmoid'),\n",
    "    Dense(50, activation='sigmoid'),\n",
    "    #une couche de sortie de 10 neurones avec activation Softmax\n",
    "    Dense(10, activation='softmax')\n",
    "                                ])\n",
    "model.compile(loss='categorical_crossentropy',optimizer='adam',metrics=['accuracy'])\n",
    "\n",
    "callback = keras.callbacks.EarlyStopping(monitor = \"val_loss\", \n",
    "                             mode = \"min\", patience = 3, \n",
    "                                             restore_best_weights = True)\n",
    "\n",
    "history = model.fit(x_train, y_train, epochs=20,\n",
    "                    batch_size=1, callbacks=[callback], verbose=2, \n",
    "                   validation_data = [x_test, y_test])"
   ]
  },
  {
   "cell_type": "markdown",
   "metadata": {},
   "source": [
    "# Préparation des données"
   ]
  },
  {
   "cell_type": "markdown",
   "metadata": {},
   "source": [
    "# Elaboration de l'expérimentation"
   ]
  }
 ],
 "metadata": {
  "kernelspec": {
   "display_name": "Python 3 (ipykernel)",
   "language": "python",
   "name": "python3"
  },
  "language_info": {
   "codemirror_mode": {
    "name": "ipython",
    "version": 3
   },
   "file_extension": ".py",
   "mimetype": "text/x-python",
   "name": "python",
   "nbconvert_exporter": "python",
   "pygments_lexer": "ipython3",
   "version": "3.9.5"
  }
 },
 "nbformat": 4,
 "nbformat_minor": 1
}